{
 "cells": [
  {
   "cell_type": "markdown",
   "metadata": {},
   "source": [
    "# Practise Python"
   ]
  },
  {
   "cell_type": "markdown",
   "metadata": {},
   "source": [
    "These questions are based on those found in https://www.practicepython.org/\n",
    "Some of the solutions have extra steps in order to make them more difficult."
   ]
  },
  {
   "cell_type": "markdown",
   "metadata": {},
   "source": [
    "######QUESTION 1 (easy):\n",
    "\n",
    "Create a program that asks the user to enter their name and their age. Print out a message addressed to them that tells them the year that they will turn 100 years old.\n",
    "\n",
    "Extras:\n",
    "\n",
    " - Add on to the previous program by asking the user for another number and printing out that many copies of the previous message. (Hint: order of operations exists in Python)\n",
    "\n",
    " - Print out that many copies of the previous message on separate lines. (Hint: the string \"\\n is the same as pressing the ENTER button)"
   ]
  },
  {
   "cell_type": "code",
   "execution_count": null,
   "metadata": {},
   "outputs": [],
   "source": [
    "name = input(\"Please enter your name: \")\n",
    "print(\"Thank you {}.\".format(name))\n",
    "\n",
    "age = input(\"\\nPlease enter your age: \")\n",
    "print(\"You are {} years old.\".format(age))\n",
    "\n",
    "birthday_check = input(\"\\nHave you already had your birthday? Type yes or no: \")\n",
    "\n",
    "if birthday_check == 'yes' or birthday_check == 'Yes':\n",
    "    age = int(age) \n",
    "else: \n",
    "    age = int(age) + 1\n",
    "    \n",
    "print(age)\n",
    "\n",
    "turn_hundred = (2020 + (100 - age))\n",
    "\n",
    "print(\"{}, you will turn 100 in the year {}.\".format(name,turn_hundred))\n",
    "\n",
    "new_number = input(\"\\nNow please enter a new number: \")\n",
    "print(\"The number you have chosen is {}.\".format(new_number))\n",
    "\n",
    "print(\"\\n {}, you will turn 100 in the year {}.\".format(name,turn_hundred)*int(new_number))"
   ]
  },
  {
   "cell_type": "markdown",
   "metadata": {},
   "source": [
    "######QUESTION 2 (easy):\n",
    "    \n",
    "Ask the user for a number. Depending on whether the number is even or odd, print out an appropriate message to the user. Hint: how does an even / odd number react differently when divided by 2?\n",
    "\n",
    "Extras:\n",
    "\n",
    "- If the number is a multiple of 4, print out a different message.\n",
    "- Ask the user for two numbers: one number to check (call it num) and one number to divide by (check). If check divides evenly into num, tell that to the user. If not, print a different appropriate message."
   ]
  },
  {
   "cell_type": "code",
   "execution_count": null,
   "metadata": {},
   "outputs": [],
   "source": [
    "odd_even = input(\"Please enter a number: \")\n",
    "\n",
    "if int(odd_even) % 2 == 0 and int(odd_even) % 4 != 0:\n",
    "    print(\"This number is even.\")\n",
    "elif (int(odd_even)) % 4 == 0:\n",
    "    print(\"This number is a multiple of 4.\")\n",
    "else:\n",
    "    print(\"This number is odd.\")\n",
    "    \n",
    "num = input(\"\\nNow enter a new number: \")    \n",
    "check = input(\"Enter another number to divide the previous number by: \")\n",
    "\n",
    "if int(num)%int(check) == 0:\n",
    "    print(\"\\nThe second number divides evenly into the first.\")\n",
    "else:\n",
    "    print(\"\\nThe second number does NOT divide evenly into the first.\")"
   ]
  },
  {
   "cell_type": "markdown",
   "metadata": {},
   "source": [
    "######QUESTION 3 (normal):\n",
    "\n",
    "Take a list, say for example this one:\n",
    "\n",
    "  a = [1, 1, 2, 3, 5, 8, 13, 21, 34, 55, 89]\n",
    "and write a program that prints out all the elements of the list that are less than 5.\n",
    "\n",
    "Extras:\n",
    "\n",
    "- Instead of printing the elements one by one, make a new list that has all the elements less than 5 from this list in it and print out this new list.\n",
    "- Write this in one line of Python.\n",
    "- Ask the user for a number and return a list that contains only elements from the original list a that are smaller than that number given by the user."
   ]
  },
  {
   "cell_type": "code",
   "execution_count": null,
   "metadata": {},
   "outputs": [],
   "source": [
    "a = [1, 1, 2, 3, 5, 8, 13, 21, 34, 55, 89]\n",
    "\n",
    "new_list = []\n",
    "\n",
    "new_list_input = []\n",
    "\n",
    "for element in a:\n",
    "    if element < 5:\n",
    "        print(element)\n",
    "    else: None    \n",
    "        \n",
    "#for element in a:\n",
    "#    if element < 5:\n",
    "#        new_list.append(element)\n",
    "#    else: None    \n",
    "\n",
    "print([i for i in a if i < 5])\n",
    "\n",
    "\n",
    "ask_input = input(\"\\nEnter a number: \")\n",
    "\n",
    "print([i for i in a if i < int(ask_input)])"
   ]
  },
  {
   "cell_type": "markdown",
   "metadata": {},
   "source": [
    "######QUESTION 4 (normal):\n",
    "\n",
    "Create a program that asks the user for a number and then prints out a list of all the divisors of that number. (If you don’t know what a divisor is, it is a number that divides evenly into another number. For example, 13 is a divisor of 26 because 26 / 13 has no remainder.)"
   ]
  },
  {
   "cell_type": "code",
   "execution_count": null,
   "metadata": {},
   "outputs": [],
   "source": [
    "ask_number = input(\"Please pick a number: \")\n",
    "\n",
    "divisor_list = []\n",
    "\n",
    "for i in range(1,int(ask_number)):\n",
    "    if int(ask_number) % i == 0:\n",
    "        divisor_list.append(i)\n",
    "    else:\n",
    "        None\n",
    "print(\"List of numbers that are divisors of the input number are {}.\".format(divisor_list))        "
   ]
  },
  {
   "cell_type": "markdown",
   "metadata": {},
   "source": [
    "######QUESTION 5 (normal):\n",
    "\n",
    "Take two lists, say for example these two:\n",
    "\n",
    "  a = [1, 1, 2, 3, 5, 8, 13, 21, 34, 55, 89]\n",
    "  \n",
    "  b = [1, 2, 3, 4, 5, 6, 7, 8, 9, 10, 11, 12, 13]\n",
    "  \n",
    "and write a program that returns a list that contains only the elements that are common between the lists (without duplicates). Make sure your program works on two lists of different sizes.\n",
    "\n",
    "Extras:\n",
    "\n",
    "- Randomly generate two lists to test this\n",
    "- Write this in one line of Python (don’t worry if you can’t figure this out at this point - we’ll get to it soon)"
   ]
  },
  {
   "cell_type": "code",
   "execution_count": 1,
   "metadata": {},
   "outputs": [
    {
     "name": "stdout",
     "output_type": "stream",
     "text": [
      "[1, 2, 3, 5, 8, 13] \n",
      "\n",
      "First random list:  [2, 6, 3, 5, 3, 7, 9, 3, 7, 4] \n",
      "Second random list:  [7, 8, 4, 9, 9, 5, 3, 5, 1]\n",
      "\n",
      "List of divisors between the random lists is  [5, 9, 3, 7, 4]\n",
      "[1, 2, 3, 5, 8, 13]\n"
     ]
    }
   ],
   "source": [
    "import random as rand\n",
    "\n",
    "a = [1, 1, 2, 3, 5, 8, 13, 21, 34, 55, 89]\n",
    "\n",
    "b = [1, 2, 3, 4, 5, 6, 7, 8, 9, 10, 11, 12, 13]\n",
    "\n",
    "def listcheck(list1,list2):\n",
    "    common_numbers = [] \n",
    "    for i in list1:\n",
    "        if i in list2:\n",
    "            common_numbers.append(i)\n",
    "            if common_numbers.count(i) >1:\n",
    "                common_numbers.remove(i)\n",
    "        else:\n",
    "            None\n",
    "    return common_numbers            \n",
    "            \n",
    "print(listcheck(a,b),\"\\n\")   \n",
    "\n",
    "random_list_1 = []\n",
    "random_list_2 = []\n",
    "\n",
    "rando_list_number_1 = rand.randint(0,10)\n",
    "rando_list_number_2 = rand.randint(0,10)\n",
    "\n",
    "for x in range(0,rando_list_number_1):\n",
    "    random_list_1.append(rand.randrange(0,10))\n",
    "for y in range(0,rando_list_number_2):    \n",
    "    random_list_2.append(rand.randrange(0,10))\n",
    "\n",
    "    \n",
    "print(\"First random list: \",random_list_1,\"\\nSecond random list: \",random_list_2)\n",
    "\n",
    "print(\"\\nList of divisors between the random lists is \",listcheck(random_list_1,random_list_2))\n",
    "\n",
    "\n",
    "print([a[i] for i in range(len(a)) if a[i] in b and a[i] not in a[:i]])    "
   ]
  },
  {
   "cell_type": "markdown",
   "metadata": {},
   "source": [
    "######QUESTION 6 (normal):\n",
    "\n",
    "Ask the user for a string and print out whether this string is a palindrome or not. (A palindrome is a string that reads the same forwards and backwards.)"
   ]
  },
  {
   "cell_type": "code",
   "execution_count": null,
   "metadata": {},
   "outputs": [],
   "source": [
    "ask_string = input(\"Enter a word to test whether it is a palindrome or not: \")\n",
    "ask_string = ask_string.replace(\" \",\"\")\n",
    "\n",
    "if ask_string[::-1] == ask_string[0::]:\n",
    "    print(\"\\nThis word is a palindrome\")\n",
    "else: print(\"\\nThis word is not a palindrome\")"
   ]
  },
  {
   "cell_type": "markdown",
   "metadata": {},
   "source": [
    "######QUESTION 7(normal):\n",
    "\n",
    "Let’s say I give you a list saved in a variable: a = [1, 4, 9, 16, 25, 36, 49, 64, 81, 100]. Write one line of Python that takes this list a and makes a new list that has only the even elements of this list in it."
   ]
  },
  {
   "cell_type": "code",
   "execution_count": null,
   "metadata": {},
   "outputs": [],
   "source": [
    "a = [1, 4, 9, 16, 25, 36, 49, 64, 81, 100]\n",
    "\n",
    "#even_list = []\n",
    "\n",
    "'''\n",
    "for i in a:\n",
    "    if i % 2 == 0:\n",
    "        even_list.append(i)\n",
    "    else: None\n",
    "        \n",
    "print(even_list)      \n",
    "'''\n",
    "\n",
    "new_list = [i for i in a if i % 2 ==0]\n",
    "print(new_list)"
   ]
  },
  {
   "cell_type": "markdown",
   "metadata": {},
   "source": [
    "######QUESTION 8 (hard):\n",
    "\n",
    "Make a two-player Rock-Paper-Scissors game. (Hint: Ask for player plays (using input), compare them, print out a message of congratulations to the winner, and ask if the players want to start a new game)\n",
    "\n",
    "Remember the rules:\n",
    "\n",
    "- Rock beats scissors\n",
    "- Scissors beats paper\n",
    "- Paper beats rock"
   ]
  },
  {
   "cell_type": "code",
   "execution_count": null,
   "metadata": {},
   "outputs": [],
   "source": [
    "import random as rand\n",
    "\n",
    "player_1 = 0\n",
    "points_player = 0\n",
    "points_computer = 0\n",
    "\n",
    "print(\"Type 'quit' to stop playing\")        \n",
    "        \n",
    "while player_1 != 'r' or player_1 != 's' or player_1 !='p' or player_1.lower() != 'quit':   \n",
    "    \n",
    "    cpu = rand.choice([\"r\",\"p\",\"s\"]) \n",
    "    \n",
    "    player_1 = input(\"\\nPlayer one, choose 'r' for rock, 'p' for paper, and 's' for scissors: \")\n",
    "    \n",
    "    if player_1.lower() == \"quit\":\n",
    "        print(\"\\nFinal score is - Player: {}, CPU: {}\".format(points_player,points_computer))\n",
    "        print(\"\\nThanks for playing.\")   \n",
    "        break\n",
    "    elif (player_1.lower() == 'r' and cpu == 's') or \\\n",
    "         (player_1.lower() == 'p' and cpu == 'r') or \\\n",
    "         (player_1.lower() == 's' and cpu == 'p'):\n",
    "        print(\"\\nThe computer chooses: \", cpu)\n",
    "        print(\"Player one wins.\")\n",
    "        points_player += 1\n",
    "        print(\"\\nThe score is - Player: {}, CPU: {}\".format(points_player,points_computer))\n",
    "    elif (player_1.lower() == 's' and cpu == 's') or \\\n",
    "         (player_1.lower() == 'p' and cpu == 'p') or \\\n",
    "         (player_1.lower() == 'r' and cpu == 'r'):\n",
    "        print(\"\\nThe computer chooses: \", cpu)\n",
    "        print(\"It is a draw. \")\n",
    "        print(\"\\nThe score is - Player: {}, CPU: {}\".format(points_player,points_computer))\n",
    "    elif (player_1.lower() == 's' and cpu == 'r') or \\\n",
    "         (player_1.lower() == 'p' and cpu == 's') or \\\n",
    "         (player_1.lower() == 'r' and cpu == 'p') : \n",
    "        print(\"\\nThe computer chooses: \", cpu)\n",
    "        print(\"The computer wins.\")\n",
    "        points_computer += 1\n",
    "        print(\"\\nThe score is - Player: {}, CPU: {}\".format(points_player,points_computer))\n",
    "    else:\n",
    "        print(\"\\nInvalid input.\")"
   ]
  },
  {
   "cell_type": "markdown",
   "metadata": {},
   "source": [
    "######QUESTION 9 (hard):\n",
    "\n",
    "Generate a random number between 1 and 9 (including 1 and 9). Ask the user to guess the number, then tell them whether they guessed too low, too high, or exactly right. (Hint: remember to use the user input lessons from the very first exercise)\n",
    "\n",
    "Extras:\n",
    "\n",
    "- Keep the game going until the user types “exit”\n",
    "- Keep track of how many guesses the user has taken, and when the game ends, print this out."
   ]
  },
  {
   "cell_type": "code",
   "execution_count": 61,
   "metadata": {},
   "outputs": [
    {
     "name": "stdout",
     "output_type": "stream",
     "text": [
      "Guess a number between 1 and 9: quiTT\n",
      "You need to enter an integer.\n",
      "Guess a number between 1 and 9: 5\n",
      "\n",
      "Your number is too high, guess again.\n",
      "Guess a number between 1 and 9: 4\n",
      "\n",
      "Your number is too high, guess again.\n",
      "Guess a number between 1 and 9: 3\n",
      "\n",
      "Your number is too high, guess again.\n",
      "Guess a number between 1 and 9: 2\n",
      "\n",
      "Well done, you guessed the number, it was  2\n",
      "It took you 4 guesses.\n"
     ]
    }
   ],
   "source": [
    "import random as rand\n",
    "\n",
    "random_number = rand.randint(1,9)\n",
    "\n",
    "player_guess = 0\n",
    "number_guesses = 0\n",
    "\n",
    "while player_guess != random_number:\n",
    "    \n",
    "    player_guess = input(\"Guess a number between 1 and 9: \")\n",
    "    \n",
    "    try:\n",
    "        if str(player_guess).lower() == 'quit':\n",
    "            print(\"\\nThanks for playing.\")\n",
    "            print(\"You made {} guesses.\".format(number_guesses))\n",
    "            break\n",
    "        elif int(player_guess) == random_number:\n",
    "            number_guesses += 1\n",
    "            print(\"\\nWell done, you guessed the number, it was \",random_number)\n",
    "            print(\"It took you {} guesses.\".format(number_guesses))\n",
    "            break\n",
    "        elif int(player_guess) > random_number and int(player_guess) <= 9:\n",
    "            number_guesses += 1\n",
    "            print(\"\\nYour number is too high, guess again.\")\n",
    "        elif int(player_guess) < random_number and int(player_guess) >= 1:\n",
    "            number_guesses += 1\n",
    "            print(\"\\nYour number is too low, guess again.\")\n",
    "        else: print(\"Invalid input.\")       \n",
    "            \n",
    "    except ValueError:\n",
    "        print(\"\\nYou need to enter an integer.\")"
   ]
  },
  {
   "cell_type": "markdown",
   "metadata": {},
   "source": [
    "######QUESTION 10 (normal):\n",
    "\n",
    "This week’s exercise is going to be revisiting an old exercise (see Exercise 5), except require the solution in a different way.\n",
    "\n",
    "Take two lists, say for example these two:\n",
    "\n",
    "\ta = [1, 1, 2, 3, 5, 8, 13, 21, 34, 55, 89]\n",
    "\tb = [1, 2, 3, 4, 5, 6, 7, 8, 9, 10, 11, 12, 13]\n",
    "and write a program that returns a list that contains only the elements that are common between the lists (without duplicates). Make sure your program works on two lists of different sizes. Write this in one line of Python using at least one list comprehension. (Hint: Remember list comprehensions from Exercise 7).\n",
    "\n",
    "Extra:\n",
    "\n",
    "Randomly generate two lists to test this"
   ]
  },
  {
   "cell_type": "code",
   "execution_count": 10,
   "metadata": {},
   "outputs": [
    {
     "name": "stdout",
     "output_type": "stream",
     "text": [
      "[21, 67, 61]\n"
     ]
    }
   ],
   "source": [
    "import random as rand\n",
    "\n",
    "a = [1, 1, 2, 3, 5, 8, 13, 21, 34, 55, 89]\n",
    "b = [1, 2, 3, 4, 5, 6, 7, 8, 9, 10, 11, 12, 13]\n",
    "\n",
    "randomlist1 = rand.sample(range(100),10)\n",
    "randomlist2 = rand.sample(range(100),15)\n",
    "\n",
    "def commonlists(list1,list2):\n",
    "    \n",
    "    list3 = [i for i in list1 if i in list2]\n",
    "    \n",
    "    return list(set(list3))\n",
    "\n",
    "commonlists(randomlist1,randomlist2)"
   ]
  },
  {
   "cell_type": "markdown",
   "metadata": {},
   "source": [
    "######QUESTION 11 (hard)\n",
    "\n",
    "Ask the user for a number and determine whether the number is prime or not. (For those who have forgotten, a prime number is a number that has no divisors.). You can (and should!) use your answer to Exercise 4 to help you. Take this opportunity to practice using functions, described below."
   ]
  },
  {
   "cell_type": "code",
   "execution_count": 33,
   "metadata": {},
   "outputs": [
    {
     "name": "stdout",
     "output_type": "stream",
     "text": [
      "Please enter a number to determine if it's a prime number: 2\n",
      "This is a prime number.\n"
     ]
    }
   ],
   "source": [
    "def number():\n",
    "    \n",
    "    value = int(input(\"Please enter a number to determine if it's a prime number: \"))\n",
    "    divisors = []\n",
    "    for i in range(1,value+1):\n",
    "        if value % i == 0:\n",
    "            divisors.append(i)\n",
    "    if len(divisors) == 2 and divisors[0] == 1 and divisors[1] == value:\n",
    "        print(\"This is a prime number.\")\n",
    "    else: print(\"This number is not a prime number.\")        \n",
    "                \n",
    "number()                "
   ]
  },
  {
   "cell_type": "markdown",
   "metadata": {},
   "source": [
    "######QUESTION 12 (easy):\n",
    "\n",
    "Write a program that takes a list of numbers (for example, a = [5, 10, 15, 20, 25]) and makes a new list of only the first and last elements of the given list. For practice, write this code inside a function."
   ]
  },
  {
   "cell_type": "code",
   "execution_count": 36,
   "metadata": {
    "scrolled": true
   },
   "outputs": [
    {
     "name": "stdout",
     "output_type": "stream",
     "text": [
      "[5, 25]\n"
     ]
    }
   ],
   "source": [
    "a = [5, 10, 15, 20, 25]\n",
    "\n",
    "def firstandlast(list1):\n",
    "    print([list1[0],list1[-1]])\n",
    "\n",
    "firstandlast(a)"
   ]
  },
  {
   "cell_type": "markdown",
   "metadata": {},
   "source": [
    "######QUESTION 12 (normal):\n",
    "\n",
    "Write a program that asks the user how many Fibonnaci numbers to generate and then generates them. Take this opportunity to think about how you can use functions. Make sure to ask the user to enter the number of numbers in the sequence to generate.(Hint: The Fibonnaci seqence is a sequence of numbers where the next number in the sequence is the sum of the previous two numbers in the sequence. The sequence looks like this: 1, 1, 2, 3, 5, 8, 13, …)"
   ]
  },
  {
   "cell_type": "code",
   "execution_count": null,
   "metadata": {},
   "outputs": [],
   "source": []
  },
  {
   "cell_type": "code",
   "execution_count": null,
   "metadata": {},
   "outputs": [],
   "source": []
  },
  {
   "cell_type": "code",
   "execution_count": null,
   "metadata": {},
   "outputs": [],
   "source": []
  }
 ],
 "metadata": {
  "kernelspec": {
   "display_name": "Python 3",
   "language": "python",
   "name": "python3"
  },
  "language_info": {
   "codemirror_mode": {
    "name": "ipython",
    "version": 3
   },
   "file_extension": ".py",
   "mimetype": "text/x-python",
   "name": "python",
   "nbconvert_exporter": "python",
   "pygments_lexer": "ipython3",
   "version": "3.8.5"
  }
 },
 "nbformat": 4,
 "nbformat_minor": 4
}
